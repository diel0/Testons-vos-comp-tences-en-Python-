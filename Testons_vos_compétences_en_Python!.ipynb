{
  "nbformat": 4,
  "nbformat_minor": 0,
  "metadata": {
    "colab": {
      "provenance": []
    },
    "kernelspec": {
      "name": "python3",
      "display_name": "Python 3"
    },
    "language_info": {
      "name": "python"
    }
  },
  "cells": [
    {
      "cell_type": "markdown",
      "source": [
        "EXERCICE 1"
      ],
      "metadata": {
        "id": "c52u5Abf_eA-"
      }
    },
    {
      "cell_type": "code",
      "execution_count": 6,
      "metadata": {
        "colab": {
          "base_uri": "https://localhost:8080/"
        },
        "id": "His2aoTN73Np",
        "outputId": "6c5a8c95-8435-45a0-8ac1-5b88d4524ebe"
      },
      "outputs": [
        {
          "output_type": "stream",
          "name": "stdout",
          "text": [
            "[2002, 2009, 2016, 2023, 2037, 2044, 2051, 2058, 2072, 2079, 2086, 2093, 2107, 2114, 2121, 2128, 2142, 2149, 2156, 2163, 2177, 2184, 2191, 2198, 2212, 2219, 2226, 2233, 2247, 2254, 2261, 2268, 2282, 2289, 2296, 2303, 2317, 2324, 2331, 2338, 2352, 2359, 2366, 2373, 2387, 2394, 2401, 2408, 2422, 2429, 2436, 2443, 2457, 2464, 2471, 2478, 2492, 2499, 2506, 2513, 2527, 2534, 2541, 2548, 2562, 2569, 2576, 2583, 2597, 2604, 2611, 2618, 2632, 2639, 2646, 2653, 2667, 2674, 2681, 2688, 2702, 2709, 2716, 2723, 2737, 2744, 2751, 2758, 2772, 2779, 2786, 2793, 2807, 2814, 2821, 2828, 2842, 2849, 2856, 2863, 2877, 2884, 2891, 2898, 2912, 2919, 2926, 2933, 2947, 2954, 2961, 2968, 2982, 2989, 2996, 3003, 3017, 3024, 3031, 3038, 3052, 3059, 3066, 3073, 3087, 3094, 3101, 3108, 3122, 3129, 3136, 3143, 3157, 3164, 3171, 3178, 3192, 3199]\n"
          ]
        }
      ],
      "source": [
        "nombres_divisible = []\n",
        "for i in range(2000, 3201):\n",
        "    if i % 7 == 0 and i % 5 != 0:\n",
        "        nombres_divisible.append(i)\n",
        "print(nombres_divisible)"
      ]
    },
    {
      "cell_type": "markdown",
      "source": [
        "EXERCICE 2"
      ],
      "metadata": {
        "id": "-VENPqqX_u2S"
      }
    },
    {
      "cell_type": "code",
      "source": [
        "def factorialle(n):\n",
        "    resultat = 1\n",
        "    i = 1\n",
        "    while i <= n: \n",
        "        resultat *= i\n",
        "        i += 1   \n",
        "    return resultat\n",
        "nombre=int(input(\"Saisir un nombre \"))\n",
        "print(factorialle(nombre))"
      ],
      "metadata": {
        "colab": {
          "base_uri": "https://localhost:8080/"
        },
        "id": "_K2OU6uX_ayZ",
        "outputId": "a507c732-9bb4-4208-9b35-a49a0212b891"
      },
      "execution_count": 14,
      "outputs": [
        {
          "output_type": "stream",
          "name": "stdout",
          "text": [
            "Saisir un nombre 5\n",
            "120\n"
          ]
        }
      ]
    },
    {
      "cell_type": "markdown",
      "source": [
        "EXERCICE 3"
      ],
      "metadata": {
        "id": "lkUmL0D8FiuX"
      }
    },
    {
      "cell_type": "code",
      "source": [
        "i=1\n",
        "nombre=0\n",
        "dictionnaire =dict()\n",
        "nombre=int(input(\"Entrez une valeur \"))\n",
        "while i<nombre+1:\n",
        "    dictionnaire[i]=i*i\n",
        "    i+=1\n",
        "print(dictionnaire)"
      ],
      "metadata": {
        "colab": {
          "base_uri": "https://localhost:8080/"
        },
        "id": "BUib-U96FkqR",
        "outputId": "9fdf42a4-b7aa-40ef-bbbc-e19526148c10"
      },
      "execution_count": 19,
      "outputs": [
        {
          "output_type": "stream",
          "name": "stdout",
          "text": [
            "Entrez une valeur8\n",
            "{1: 1, 2: 4, 3: 9, 4: 16, 5: 25, 6: 36, 7: 49, 8: 64}\n"
          ]
        }
      ]
    },
    {
      "cell_type": "markdown",
      "source": [
        "EXERCICE 4"
      ],
      "metadata": {
        "id": "JD5DtONOGB_j"
      }
    },
    {
      "cell_type": "code",
      "source": [
        "chaine = 'chaton'\n",
        "taille = len(chaine)\n",
        "\n",
        "def supprimer_caractere(chaine, i):\n",
        "    if i < len(chaine):\n",
        "        mot = chaine[:i] + chaine[i+1:]\n",
        "        print(mot)\n",
        "    else:\n",
        "        print('Le mot est court, li contient', taille ,'caractere')\n",
        "\n",
        "index = int(input(\"Saisir l'indexe a supprimer \"))\n",
        "supprimer_caractere(chaine, index)"
      ],
      "metadata": {
        "colab": {
          "base_uri": "https://localhost:8080/"
        },
        "id": "UXBw8ZKiGFYo",
        "outputId": "317da574-996f-4353-ab4a-ae906ad4b8ea"
      },
      "execution_count": 23,
      "outputs": [
        {
          "output_type": "stream",
          "name": "stdout",
          "text": [
            "Saisir l'indexe a supprimer 9\n",
            "Le mot est court, li contient 6 caractere\n"
          ]
        }
      ]
    },
    {
      "cell_type": "markdown",
      "source": [
        "EXERCICE 5"
      ],
      "metadata": {
        "id": "qp7wNTRYNDAu"
      }
    },
    {
      "cell_type": "code",
      "source": [
        "import numpy as np\n",
        "liste=np.array([[0,1],[2,3],[4,5]])\n",
        "liste = liste.tolist()\n",
        "print(liste)"
      ],
      "metadata": {
        "colab": {
          "base_uri": "https://localhost:8080/"
        },
        "id": "yh5HfabDNG1q",
        "outputId": "e9bb6170-6d70-42d3-ebe2-e3c039721849"
      },
      "execution_count": 24,
      "outputs": [
        {
          "output_type": "stream",
          "name": "stdout",
          "text": [
            "[[0, 1], [2, 3], [4, 5]]\n"
          ]
        }
      ]
    },
    {
      "cell_type": "markdown",
      "source": [
        "EXERCICE 6"
      ],
      "metadata": {
        "id": "8HfGvndNNTYt"
      }
    },
    {
      "cell_type": "code",
      "source": [
        "import numpy as np\n",
        "\n",
        "matrice_1 = np.array([0,1,2])\n",
        "matrice_2 = np.array([2,1,0])\n",
        "\n",
        "covariance = np.cov(matrice_1,matrice_2)\n",
        "print(covariance)"
      ],
      "metadata": {
        "colab": {
          "base_uri": "https://localhost:8080/"
        },
        "id": "LdjYksbFNWBD",
        "outputId": "91e6a788-db29-4a42-d2a4-19ae31ae2266"
      },
      "execution_count": 25,
      "outputs": [
        {
          "output_type": "stream",
          "name": "stdout",
          "text": [
            "[[ 1. -1.]\n",
            " [-1.  1.]]\n"
          ]
        }
      ]
    },
    {
      "cell_type": "markdown",
      "source": [
        "EXERCICE 7"
      ],
      "metadata": {
        "id": "3ipIyEL9Nim3"
      }
    },
    {
      "cell_type": "code",
      "source": [
        "import numpy as np\n",
        "\n",
        "def racine_carre(tableau):\n",
        "    C=50\n",
        "    H=30\n",
        "    resultat=np.array([int((2 * C * tableau))/H])\n",
        "    new_resultat=np.sqrt(resultat)\n",
        "    new_resultat=np.floor(new_resultat)\n",
        "    return new_resultat\n",
        "\n",
        "def saisie_affichage():\n",
        "    n=int(input(\"Entrez le nombre de valeur a calculer \"))\n",
        "    resltat_final=np.array([])\n",
        "    for i in range(n):\n",
        "        tableau = np.array([int(input(\"Entrez la valeur numero {}: \" .format(i+1)))])\n",
        "        if tableau is not None:\n",
        "            resultat=racine_carre(tableau)\n",
        "            resltat_final=np.append(resltat_final,resultat)\n",
        "    print(resltat_final)\n",
        "\n",
        "saisie_affichage()"
      ],
      "metadata": {
        "colab": {
          "base_uri": "https://localhost:8080/"
        },
        "id": "PbSKeq1wNlvW",
        "outputId": "fc54d9c2-f259-42a6-ba96-0de9272b82cc"
      },
      "execution_count": 29,
      "outputs": [
        {
          "output_type": "stream",
          "name": "stdout",
          "text": [
            "Entrez le nombre de valeur a calculer 1\n",
            "Entrez la valeur numero 1: 100\n",
            "[18.]\n"
          ]
        }
      ]
    }
  ]
}